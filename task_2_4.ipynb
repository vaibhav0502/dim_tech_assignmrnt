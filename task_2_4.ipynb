{
  "nbformat": 4,
  "nbformat_minor": 0,
  "metadata": {
    "colab": {
      "provenance": [],
      "toc_visible": true
    },
    "kernelspec": {
      "name": "python3",
      "display_name": "Python 3"
    },
    "language_info": {
      "name": "python"
    }
  },
  "cells": [
    {
      "cell_type": "code",
      "execution_count": 1,
      "metadata": {
        "colab": {
          "base_uri": "https://localhost:8080/",
          "height": 1000
        },
        "id": "ast-cpEWb4r0",
        "outputId": "30f1184a-7a43-410c-d026-7c4bef72b493"
      },
      "outputs": [
        {
          "output_type": "stream",
          "name": "stdout",
          "text": [
            "Requirement already satisfied: datasets in /usr/local/lib/python3.10/dist-packages (2.13.1)\n",
            "Requirement already satisfied: evaluate in /usr/local/lib/python3.10/dist-packages (0.4.0)\n",
            "Requirement already satisfied: transformers in /usr/local/lib/python3.10/dist-packages (4.30.2)\n",
            "Requirement already satisfied: numpy>=1.17 in /usr/local/lib/python3.10/dist-packages (from datasets) (1.22.4)\n",
            "Requirement already satisfied: pyarrow>=8.0.0 in /usr/local/lib/python3.10/dist-packages (from datasets) (9.0.0)\n",
            "Requirement already satisfied: dill<0.3.7,>=0.3.0 in /usr/local/lib/python3.10/dist-packages (from datasets) (0.3.6)\n",
            "Requirement already satisfied: pandas in /usr/local/lib/python3.10/dist-packages (from datasets) (1.5.3)\n",
            "Requirement already satisfied: requests>=2.19.0 in /usr/local/lib/python3.10/dist-packages (from datasets) (2.27.1)\n",
            "Requirement already satisfied: tqdm>=4.62.1 in /usr/local/lib/python3.10/dist-packages (from datasets) (4.65.0)\n",
            "Requirement already satisfied: xxhash in /usr/local/lib/python3.10/dist-packages (from datasets) (3.2.0)\n",
            "Requirement already satisfied: multiprocess in /usr/local/lib/python3.10/dist-packages (from datasets) (0.70.14)\n",
            "Requirement already satisfied: fsspec[http]>=2021.11.1 in /usr/local/lib/python3.10/dist-packages (from datasets) (2023.6.0)\n",
            "Requirement already satisfied: aiohttp in /usr/local/lib/python3.10/dist-packages (from datasets) (3.8.4)\n",
            "Requirement already satisfied: huggingface-hub<1.0.0,>=0.11.0 in /usr/local/lib/python3.10/dist-packages (from datasets) (0.15.1)\n",
            "Requirement already satisfied: packaging in /usr/local/lib/python3.10/dist-packages (from datasets) (23.1)\n",
            "Requirement already satisfied: pyyaml>=5.1 in /usr/local/lib/python3.10/dist-packages (from datasets) (6.0)\n",
            "Requirement already satisfied: responses<0.19 in /usr/local/lib/python3.10/dist-packages (from evaluate) (0.18.0)\n",
            "Requirement already satisfied: filelock in /usr/local/lib/python3.10/dist-packages (from transformers) (3.12.2)\n",
            "Requirement already satisfied: regex!=2019.12.17 in /usr/local/lib/python3.10/dist-packages (from transformers) (2022.10.31)\n",
            "Requirement already satisfied: tokenizers!=0.11.3,<0.14,>=0.11.1 in /usr/local/lib/python3.10/dist-packages (from transformers) (0.13.3)\n",
            "Requirement already satisfied: safetensors>=0.3.1 in /usr/local/lib/python3.10/dist-packages (from transformers) (0.3.1)\n",
            "Requirement already satisfied: attrs>=17.3.0 in /usr/local/lib/python3.10/dist-packages (from aiohttp->datasets) (23.1.0)\n",
            "Requirement already satisfied: charset-normalizer<4.0,>=2.0 in /usr/local/lib/python3.10/dist-packages (from aiohttp->datasets) (2.0.12)\n",
            "Requirement already satisfied: multidict<7.0,>=4.5 in /usr/local/lib/python3.10/dist-packages (from aiohttp->datasets) (6.0.4)\n",
            "Requirement already satisfied: async-timeout<5.0,>=4.0.0a3 in /usr/local/lib/python3.10/dist-packages (from aiohttp->datasets) (4.0.2)\n",
            "Requirement already satisfied: yarl<2.0,>=1.0 in /usr/local/lib/python3.10/dist-packages (from aiohttp->datasets) (1.9.2)\n",
            "Requirement already satisfied: frozenlist>=1.1.1 in /usr/local/lib/python3.10/dist-packages (from aiohttp->datasets) (1.3.3)\n",
            "Requirement already satisfied: aiosignal>=1.1.2 in /usr/local/lib/python3.10/dist-packages (from aiohttp->datasets) (1.3.1)\n",
            "Requirement already satisfied: typing-extensions>=3.7.4.3 in /usr/local/lib/python3.10/dist-packages (from huggingface-hub<1.0.0,>=0.11.0->datasets) (4.6.3)\n",
            "Requirement already satisfied: urllib3<1.27,>=1.21.1 in /usr/local/lib/python3.10/dist-packages (from requests>=2.19.0->datasets) (1.26.16)\n",
            "Requirement already satisfied: certifi>=2017.4.17 in /usr/local/lib/python3.10/dist-packages (from requests>=2.19.0->datasets) (2023.5.7)\n",
            "Requirement already satisfied: idna<4,>=2.5 in /usr/local/lib/python3.10/dist-packages (from requests>=2.19.0->datasets) (3.4)\n",
            "Requirement already satisfied: python-dateutil>=2.8.1 in /usr/local/lib/python3.10/dist-packages (from pandas->datasets) (2.8.2)\n",
            "Requirement already satisfied: pytz>=2020.1 in /usr/local/lib/python3.10/dist-packages (from pandas->datasets) (2022.7.1)\n",
            "Requirement already satisfied: six>=1.5 in /usr/local/lib/python3.10/dist-packages (from python-dateutil>=2.8.1->pandas->datasets) (1.16.0)\n",
            "Requirement already satisfied: pdfplumber in /usr/local/lib/python3.10/dist-packages (0.9.0)\n",
            "Requirement already satisfied: pdfminer.six==20221105 in /usr/local/lib/python3.10/dist-packages (from pdfplumber) (20221105)\n",
            "Requirement already satisfied: Pillow>=9.1 in /usr/local/lib/python3.10/dist-packages (from pdfplumber) (10.0.0)\n",
            "Requirement already satisfied: Wand>=0.6.10 in /usr/local/lib/python3.10/dist-packages (from pdfplumber) (0.6.11)\n",
            "Requirement already satisfied: charset-normalizer>=2.0.0 in /usr/local/lib/python3.10/dist-packages (from pdfminer.six==20221105->pdfplumber) (2.0.12)\n",
            "Requirement already satisfied: cryptography>=36.0.0 in /usr/local/lib/python3.10/dist-packages (from pdfminer.six==20221105->pdfplumber) (41.0.1)\n",
            "Requirement already satisfied: cffi>=1.12 in /usr/local/lib/python3.10/dist-packages (from cryptography>=36.0.0->pdfminer.six==20221105->pdfplumber) (1.15.1)\n",
            "Requirement already satisfied: pycparser in /usr/local/lib/python3.10/dist-packages (from cffi>=1.12->cryptography>=36.0.0->pdfminer.six==20221105->pdfplumber) (2.21)\n",
            "Collecting Pillow==9.0.0\n",
            "  Using cached Pillow-9.0.0-cp310-cp310-manylinux_2_17_x86_64.manylinux2014_x86_64.whl (4.3 MB)\n",
            "Installing collected packages: Pillow\n",
            "\u001b[31mERROR: pip's dependency resolver does not currently take into account all the packages that are installed. This behaviour is the source of the following dependency conflicts.\n",
            "pdfplumber 0.9.0 requires Pillow>=9.1, but you have pillow 9.0.0 which is incompatible.\u001b[0m\u001b[31m\n",
            "\u001b[0mSuccessfully installed Pillow-10.0.0\n"
          ]
        },
        {
          "output_type": "display_data",
          "data": {
            "application/vnd.colab-display-data+json": {
              "pip_warning": {
                "packages": [
                  "PIL"
                ]
              }
            }
          },
          "metadata": {}
        }
      ],
      "source": [
        "!pip install datasets evaluate transformers\n",
        "!pip install pdfplumber\n",
        "!pip install --ignore-installed Pillow==9.0.0"
      ]
    },
    {
      "cell_type": "code",
      "source": [],
      "metadata": {
        "id": "O-c8Hq6635p0"
      },
      "execution_count": 1,
      "outputs": []
    },
    {
      "cell_type": "markdown",
      "source": [
        "### Imports"
      ],
      "metadata": {
        "id": "0VEDumxJAsf8"
      }
    },
    {
      "cell_type": "code",
      "source": [
        "import pdfplumber\n",
        "import nltk\n",
        "from nltk.tokenize import sent_tokenize\n",
        "nltk.download('punkt')"
      ],
      "metadata": {
        "colab": {
          "base_uri": "https://localhost:8080/"
        },
        "id": "X9kL4-EXAyCZ",
        "outputId": "d3c9219d-0bd3-4566-b750-61a7306b42af"
      },
      "execution_count": 2,
      "outputs": [
        {
          "output_type": "stream",
          "name": "stderr",
          "text": [
            "[nltk_data] Downloading package punkt to /root/nltk_data...\n",
            "[nltk_data]   Package punkt is already up-to-date!\n"
          ]
        },
        {
          "output_type": "execute_result",
          "data": {
            "text/plain": [
              "True"
            ]
          },
          "metadata": {},
          "execution_count": 2
        }
      ]
    },
    {
      "cell_type": "code",
      "source": [
        "import torch\n",
        "from transformers import AutoTokenizer, AutoModelWithLMHead, AutoModelForTokenClassification\n",
        "from transformers import pipeline\n",
        "\n",
        "import warnings\n",
        "warnings.filterwarnings('ignore')"
      ],
      "metadata": {
        "id": "CTu_x5G7AsHV"
      },
      "execution_count": 3,
      "outputs": []
    },
    {
      "cell_type": "code",
      "source": [],
      "metadata": {
        "id": "WT_1NEZBDV50"
      },
      "execution_count": 3,
      "outputs": []
    },
    {
      "cell_type": "markdown",
      "source": [
        "## Task 2"
      ],
      "metadata": {
        "id": "OJ057JAcA4H4"
      }
    },
    {
      "cell_type": "code",
      "source": [
        "tokenizer = AutoTokenizer.from_pretrained(\"dslim/bert-base-NER\")\n",
        "model = AutoModelForTokenClassification.from_pretrained(\"dslim/bert-base-NER\")"
      ],
      "metadata": {
        "id": "QknBrolmA5P3"
      },
      "execution_count": 4,
      "outputs": []
    },
    {
      "cell_type": "code",
      "source": [
        "nlp = pipeline(\"ner\", model=model, tokenizer=tokenizer)\n",
        "text = '''\n",
        "Jude is an Independent Non- Executive Director of the Bank appointed in 2017. He is the Chairman of the Board and a Banker with over\n",
        "40 years experience in Banking. Jude graduated from the University of Ghana Business School with a Second Class Upper degree in 1976.\n",
        "He is an honorary fellow of the Chartered Institute of Bankers Ghana. He commenced his Banking career in Merchant Bank Ghana Limited,\n",
        "now UMB, in 1978 where he rose to head the Corporate Finance Division of the Bank and became a Director of Merban Investment Holdings Limited,\n",
        "a subsidiary of the Bank. In 1994, together with a group of investors.'''\n",
        "\n",
        "ner_results = nlp(text)\n"
      ],
      "metadata": {
        "id": "o1hP7OWXDX8N"
      },
      "execution_count": 5,
      "outputs": []
    },
    {
      "cell_type": "code",
      "source": [
        "ner_results"
      ],
      "metadata": {
        "colab": {
          "base_uri": "https://localhost:8080/"
        },
        "id": "V73F7ySVEHTk",
        "outputId": "92f07b7a-eef7-4b3d-bd2a-270c4f2e340a"
      },
      "execution_count": 6,
      "outputs": [
        {
          "output_type": "execute_result",
          "data": {
            "text/plain": [
              "[{'entity': 'B-PER',\n",
              "  'score': 0.9990055,\n",
              "  'index': 1,\n",
              "  'word': 'Jude',\n",
              "  'start': 1,\n",
              "  'end': 5},\n",
              " {'entity': 'B-ORG',\n",
              "  'score': 0.9942794,\n",
              "  'index': 11,\n",
              "  'word': 'Bank',\n",
              "  'start': 55,\n",
              "  'end': 59},\n",
              " {'entity': 'B-PER',\n",
              "  'score': 0.99883264,\n",
              "  'index': 36,\n",
              "  'word': 'Jude',\n",
              "  'start': 168,\n",
              "  'end': 172},\n",
              " {'entity': 'B-ORG',\n",
              "  'score': 0.9943738,\n",
              "  'index': 40,\n",
              "  'word': 'University',\n",
              "  'start': 192,\n",
              "  'end': 202},\n",
              " {'entity': 'I-ORG',\n",
              "  'score': 0.99842584,\n",
              "  'index': 41,\n",
              "  'word': 'of',\n",
              "  'start': 203,\n",
              "  'end': 205},\n",
              " {'entity': 'I-ORG',\n",
              "  'score': 0.99846375,\n",
              "  'index': 42,\n",
              "  'word': 'Ghana',\n",
              "  'start': 206,\n",
              "  'end': 211},\n",
              " {'entity': 'I-ORG',\n",
              "  'score': 0.50095254,\n",
              "  'index': 43,\n",
              "  'word': 'Business',\n",
              "  'start': 212,\n",
              "  'end': 220},\n",
              " {'entity': 'I-ORG',\n",
              "  'score': 0.89762527,\n",
              "  'index': 44,\n",
              "  'word': 'School',\n",
              "  'start': 221,\n",
              "  'end': 227},\n",
              " {'entity': 'B-ORG',\n",
              "  'score': 0.99903584,\n",
              "  'index': 61,\n",
              "  'word': 'Chartered',\n",
              "  'start': 303,\n",
              "  'end': 312},\n",
              " {'entity': 'I-ORG',\n",
              "  'score': 0.999286,\n",
              "  'index': 62,\n",
              "  'word': 'Institute',\n",
              "  'start': 313,\n",
              "  'end': 322},\n",
              " {'entity': 'I-ORG',\n",
              "  'score': 0.99910307,\n",
              "  'index': 63,\n",
              "  'word': 'of',\n",
              "  'start': 323,\n",
              "  'end': 325},\n",
              " {'entity': 'I-ORG',\n",
              "  'score': 0.9990175,\n",
              "  'index': 64,\n",
              "  'word': 'Bank',\n",
              "  'start': 326,\n",
              "  'end': 330},\n",
              " {'entity': 'I-ORG',\n",
              "  'score': 0.9989982,\n",
              "  'index': 65,\n",
              "  'word': '##ers',\n",
              "  'start': 330,\n",
              "  'end': 333},\n",
              " {'entity': 'I-ORG',\n",
              "  'score': 0.99837804,\n",
              "  'index': 66,\n",
              "  'word': 'Ghana',\n",
              "  'start': 334,\n",
              "  'end': 339},\n",
              " {'entity': 'B-ORG',\n",
              "  'score': 0.99938655,\n",
              "  'index': 74,\n",
              "  'word': 'Merchant',\n",
              "  'start': 376,\n",
              "  'end': 384},\n",
              " {'entity': 'I-ORG',\n",
              "  'score': 0.9991204,\n",
              "  'index': 75,\n",
              "  'word': 'Bank',\n",
              "  'start': 385,\n",
              "  'end': 389},\n",
              " {'entity': 'I-ORG',\n",
              "  'score': 0.9993574,\n",
              "  'index': 76,\n",
              "  'word': 'Ghana',\n",
              "  'start': 390,\n",
              "  'end': 395},\n",
              " {'entity': 'I-ORG',\n",
              "  'score': 0.99923897,\n",
              "  'index': 77,\n",
              "  'word': 'Limited',\n",
              "  'start': 396,\n",
              "  'end': 403},\n",
              " {'entity': 'B-ORG',\n",
              "  'score': 0.9990527,\n",
              "  'index': 80,\n",
              "  'word': 'U',\n",
              "  'start': 410,\n",
              "  'end': 411},\n",
              " {'entity': 'I-ORG',\n",
              "  'score': 0.9960193,\n",
              "  'index': 81,\n",
              "  'word': '##MB',\n",
              "  'start': 411,\n",
              "  'end': 413},\n",
              " {'entity': 'B-ORG',\n",
              "  'score': 0.6331208,\n",
              "  'index': 91,\n",
              "  'word': 'Corporate',\n",
              "  'start': 449,\n",
              "  'end': 458},\n",
              " {'entity': 'I-ORG',\n",
              "  'score': 0.8935079,\n",
              "  'index': 92,\n",
              "  'word': 'Finance',\n",
              "  'start': 459,\n",
              "  'end': 466},\n",
              " {'entity': 'I-ORG',\n",
              "  'score': 0.82669604,\n",
              "  'index': 93,\n",
              "  'word': 'Division',\n",
              "  'start': 467,\n",
              "  'end': 475},\n",
              " {'entity': 'B-ORG',\n",
              "  'score': 0.99365234,\n",
              "  'index': 96,\n",
              "  'word': 'Bank',\n",
              "  'start': 483,\n",
              "  'end': 487},\n",
              " {'entity': 'B-ORG',\n",
              "  'score': 0.9993285,\n",
              "  'index': 102,\n",
              "  'word': 'Me',\n",
              "  'start': 513,\n",
              "  'end': 515},\n",
              " {'entity': 'I-ORG',\n",
              "  'score': 0.9968399,\n",
              "  'index': 103,\n",
              "  'word': '##rban',\n",
              "  'start': 515,\n",
              "  'end': 519},\n",
              " {'entity': 'I-ORG',\n",
              "  'score': 0.9993155,\n",
              "  'index': 104,\n",
              "  'word': 'Investment',\n",
              "  'start': 520,\n",
              "  'end': 530},\n",
              " {'entity': 'I-ORG',\n",
              "  'score': 0.99938893,\n",
              "  'index': 105,\n",
              "  'word': 'Holdings',\n",
              "  'start': 531,\n",
              "  'end': 539},\n",
              " {'entity': 'I-ORG',\n",
              "  'score': 0.99925154,\n",
              "  'index': 106,\n",
              "  'word': 'Limited',\n",
              "  'start': 540,\n",
              "  'end': 547},\n",
              " {'entity': 'B-ORG',\n",
              "  'score': 0.99733114,\n",
              "  'index': 112,\n",
              "  'word': 'Bank',\n",
              "  'start': 570,\n",
              "  'end': 574}]"
            ]
          },
          "metadata": {},
          "execution_count": 6
        }
      ]
    },
    {
      "cell_type": "code",
      "source": [],
      "metadata": {
        "id": "GtgKVcUwEOd6"
      },
      "execution_count": 6,
      "outputs": []
    },
    {
      "cell_type": "markdown",
      "source": [
        "## Task 4"
      ],
      "metadata": {
        "id": "tXRdPApA5hGi"
      }
    },
    {
      "cell_type": "code",
      "source": [
        "def get_page_data(pdf, page_no):\n",
        "    page = pdf.pages[page_no]\n",
        "    text = page.extract_text()\n",
        "    sentences = sent_tokenize(text)\n",
        "    return text, sentences"
      ],
      "metadata": {
        "id": "9YdRVOIp35yH"
      },
      "execution_count": 7,
      "outputs": []
    },
    {
      "cell_type": "code",
      "source": [
        "pdf_path = \"/content/drive/MyDrive/Colab Notebooks/dimensionless/pdfs/chapter.pdf\"\n",
        "pdf = pdfplumber.open(pdf_path)\n",
        "page_no = 3\n",
        "text, sentences = get_page_data(pdf, page_no)"
      ],
      "metadata": {
        "id": "1KZLX5fPfoE2"
      },
      "execution_count": 8,
      "outputs": []
    },
    {
      "cell_type": "code",
      "source": [
        "text"
      ],
      "metadata": {
        "colab": {
          "base_uri": "https://localhost:8080/",
          "height": 165
        },
        "id": "QAV2A61R-6VI",
        "outputId": "9ffc54b9-fff2-4d63-cb90-1f36a58d9771"
      },
      "execution_count": 9,
      "outputs": [
        {
          "output_type": "execute_result",
          "data": {
            "text/plain": [
              "'GCB Bank PLC Annual Report 2022\\nDirectors’\\nProfiles\\nJude is an Independent Non- Executive Director of the Bank appointed in 2017. He is the\\nChairman of the Board and a Banker with over 40 years’ experience in Banking.\\nJude graduated from the University of Ghana Business School with a Second Class Upper\\ndegree in 1976. He is an honorary fellow of the Chartered Institute of Bankers Ghana. He\\ncommenced his Banking career in Merchant Bank Ghana Limited, now UMB, in 1978 where he\\nrose to head the Corporate Finance Division of the Bank and became a Director of Merban\\nInvestment Holdings Limited, a subsidiary of the Bank.\\nIn 1994, together with a group of investors, he set up First Atlantic Merchant Bank Limited\\nMr. Jude Kofi Arthur (FAMBL) now First Atlantic Bank and was appointed the first Managing Director of the Bank in\\nBoard Chairman 1994. He served as Managing Director until 2012 when he retired honourably.\\nHe has had extensive executive education and is associated with such renowned and\\nprestigious institutions as Harvard Business School, INSEAD- France, Wharton Business\\nSchool- University of Pennsylvania, Templeton College- Oxford University, Stanford University,\\nNational University of Singapore (NUS), Ashridge Institute of Management, Euromoney\\nTraining School and the International Centre for Monetary and Banking Studies in Geneva.\\nKofi is an experienced banking professional with close to thirty (30) years of experience\\nleading strategic teams in international, regional, and domestic financial institutions. He has\\nbeen working in executive management-level roles for the past sixteen (16) years.\\nPrior to joining GCB Bank in November 2020, Kofi worked with African Export-Import Bank\\n(AFREXIMBANK), Cairo, as a Director and Global Head for Project and Asset-Based Finance for\\neleven (11) years. He also held executive leadership roles at Barclays Bank Ghana Limited (now\\nABSA Bank) as the Executive Director in charge of Corporate Banking, Ecobank Ghana Limited\\nas the Head of Institutional Banking, and the erstwhile Trust Bank Limited.\\nMr. Kofi Adomakoh Kofi has experience in International, Corporate/Institutional, Transaction Banking, Development\\nManaging Director Finance, Project, and Export Finance, with a track record in transforming businesses and\\nsustainably growing revenue and balance sheet.\\nHe led and structured several transactions worth over USD10 billion across the African\\ncontinent (both public and private sectors) in different industries, including manufacturing,\\nhealth care, telecommunication, energy (oil and gas), transport (ports, airports, rails, and\\nroads), mining, agriculture, and manufacturing.\\nKofi is an inspiring and energetic leader who is widely known for his collaborative leadership\\nstyle and for building high-performance teams in delivering significant bottom-line growth in\\nuniquely challenging situations.\\nKofi holds an Executive Masters Degree in Business Administration and a Bachelor of Science\\nDegree in Agriculture, majoring in Economics, both from the University of Ghana.\\n8'"
            ],
            "application/vnd.google.colaboratory.intrinsic+json": {
              "type": "string"
            }
          },
          "metadata": {},
          "execution_count": 9
        }
      ]
    },
    {
      "cell_type": "markdown",
      "source": [
        "### Summary"
      ],
      "metadata": {
        "id": "3je44vUW-rl0"
      }
    },
    {
      "cell_type": "code",
      "source": [
        "# Next, you need to initialize the tokenizer model:\n",
        "tokenizer = AutoTokenizer.from_pretrained('t5-base')\n",
        "model = AutoModelWithLMHead.from_pretrained('t5-base', return_dict=True)"
      ],
      "metadata": {
        "id": "LhrSzwhMfoIp"
      },
      "execution_count": 10,
      "outputs": []
    },
    {
      "cell_type": "code",
      "source": [
        "text =  \" \".join(sentences[:8])"
      ],
      "metadata": {
        "id": "0WsIf1xSAcYT"
      },
      "execution_count": 11,
      "outputs": []
    },
    {
      "cell_type": "code",
      "source": [
        "inputs = tokenizer.encode(\"summarize: \" + text, return_tensors='pt', max_length=512, truncation=True)\n",
        "\n",
        "summary_ids = model.generate(inputs, max_length=256, min_length=64, length_penalty=5., num_beams=2)\n",
        "summary = tokenizer.decode(summary_ids[0])\n",
        "\n",
        "summary"
      ],
      "metadata": {
        "colab": {
          "base_uri": "https://localhost:8080/",
          "height": 91
        },
        "id": "K5MpvjYR9e3N",
        "outputId": "6a4f32e9-f9c2-4014-f48c-ad48e69c9bcc"
      },
      "execution_count": 12,
      "outputs": [
        {
          "output_type": "execute_result",
          "data": {
            "text/plain": [
              "'<pad> Jude graduated from the University of Ghana Business School with a Second Class Upper degree in 1976. he is an honorary fellow of the Chartered Institute of Bankers Ghana. he commenced his Banking career in Merchant Bank Ghana Limited, now UMB, in 1978. in 1994, together with a group of investors, he set up First Atlantic Merchant Bank Limited (FAMBL) now First Atlantic Bank. he served as Managing Director until 2012 when he retired honourably. he has extensive executive education</s>'"
            ],
            "application/vnd.google.colaboratory.intrinsic+json": {
              "type": "string"
            }
          },
          "metadata": {},
          "execution_count": 12
        }
      ]
    },
    {
      "cell_type": "code",
      "source": [],
      "metadata": {
        "id": "6AddOUcU-eTc"
      },
      "execution_count": 12,
      "outputs": []
    }
  ]
}