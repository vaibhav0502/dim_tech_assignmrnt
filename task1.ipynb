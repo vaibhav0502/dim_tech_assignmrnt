{
  "nbformat": 4,
  "nbformat_minor": 0,
  "metadata": {
    "colab": {
      "provenance": [],
      "toc_visible": true
    },
    "kernelspec": {
      "name": "python3",
      "display_name": "Python 3"
    },
    "language_info": {
      "name": "python"
    }
  },
  "cells": [
    {
      "cell_type": "markdown",
      "source": [
        "# NLP Assignment"
      ],
      "metadata": {
        "id": "uTNMuo5gGDbm"
      }
    },
    {
      "cell_type": "code",
      "source": [
        "# !pip install PyMuPDF\n",
        "# !pip install fitz\n",
        "# !pip install camelot-py\n",
        "# !pip install ghostscript\n",
        "# !apt install ghostscript python3-tk"
      ],
      "metadata": {
        "id": "TYe1WH-WARxn"
      },
      "execution_count": 248,
      "outputs": []
    },
    {
      "cell_type": "markdown",
      "source": [
        "## Imports"
      ],
      "metadata": {
        "id": "Q5UTbJ31WVPx"
      }
    },
    {
      "cell_type": "code",
      "source": [
        "import fitz\n",
        "import camelot"
      ],
      "metadata": {
        "id": "rm2S5rvBISI5"
      },
      "execution_count": 250,
      "outputs": []
    },
    {
      "cell_type": "markdown",
      "source": [
        "## Task 1\n",
        "\n",
        "- Download the publicly available reports and extract the contents out of it.  \n",
        "- I have used `Fitz` to get text data and `Camelot` to get tabular data\n",
        "- Final output will be a dictionary containing text and table data for each page\n",
        "- Pass pdf_file path to function `get_doc_data` it will return output_json\n"
      ],
      "metadata": {
        "id": "H9TErR6V9gjs"
      }
    },
    {
      "cell_type": "code",
      "source": [
        "def read_table_using_camelot(pdf_path, page_no):\n",
        "    '''\n",
        "    Function to read pdf and return tables\n",
        "    '''\n",
        "    table_dict = []\n",
        "\n",
        "    try:\n",
        "        tables = camelot.read_pdf(pdf_path, pages=f\"{page_no+1}\")\n",
        "\n",
        "        if tables:\n",
        "            for table in tables:\n",
        "                table_dict.append(\n",
        "                    {\n",
        "                        'data':table.df.to_dict('records'),\n",
        "                        # \"data\": table.df,\n",
        "                        \"bbox\": table._bbox,\n",
        "                    }\n",
        "                )\n",
        "\n",
        "            return table_dict\n",
        "        else:\n",
        "            return []\n",
        "\n",
        "    except Exception as e:\n",
        "        print(\"Exception in read_table_using_camelot\", e)\n",
        "        return table_dict\n",
        "\n",
        "def change_y_of_table(tables, height):\n",
        "    \"\"\"\n",
        "    Function to change y coordinate of camelot table\n",
        "    Allign that with fitz coordinate\n",
        "    \"\"\"\n",
        "    for table in tables:\n",
        "        x1, y1, x2, y2 = table[\"bbox\"]\n",
        "        y11 = height - y2\n",
        "        y22 = height - y1\n",
        "        table[\"bbox\"] = (x1, y11, x2, y22)\n",
        "    return tables\n",
        "\n",
        "\n",
        "def add__d(data, bbox, type_):\n",
        "    data = {\"data\": data, \"bbox\": bbox, \"type\": type_}\n",
        "    return data\n",
        "\n",
        "\n",
        "def add_tables_to_output(pdf_path, h, pp, text_data):\n",
        "    try:\n",
        "        # get tables using camelot\n",
        "        tables = read_table_using_camelot(pdf_path, 0)\n",
        "        tables = change_y_of_table(tables, h)\n",
        "\n",
        "        if tables:\n",
        "            for table in tables:\n",
        "                data = add__d(table[\"data\"], table[\"bbox\"], \"table\")\n",
        "                text_data[pp][\"data\"].append(data)\n",
        "            return text_data, tables\n",
        "        else:\n",
        "            return text_data, []\n",
        "    except Exception as e:\n",
        "        print(\"Exception in add_tables_to_output\", e)\n",
        "        return text_data, []\n",
        "\n",
        "def check_overlap(t1, t2):\n",
        "    y1, y2 = int(t1[0]), int(t1[1])\n",
        "    r1 = set(list(range(y1, y2)))\n",
        "\n",
        "    y1, y2 = int(t2[0]), int(t2[1])\n",
        "    r2 = set(list(range(y1, y2)))\n",
        "\n",
        "    overlap = r1.intersection(r2)\n",
        "    return len(overlap) > 0\n",
        "\n",
        "\n",
        "def check_if_table_overlap(tables, bbox, overlap_flag):\n",
        "    \"\"\"\n",
        "    Function to check if line coordinate overlaps with table coordinate\n",
        "    \"\"\"\n",
        "    tables_bbox_list = [t[\"bbox\"] for t in tables]\n",
        "    for t in tables_bbox_list:\n",
        "        if check_overlap((bbox[1], bbox[3]), (t[1], t[3])):\n",
        "            overlap_flag = True\n",
        "        else:\n",
        "            overlap_flag = False\n",
        "    return overlap_flag\n",
        "\n",
        "\n",
        "def get_doc_data(pdf_path):\n",
        "    \"\"\"\n",
        "    Function to return text block from given doc.\n",
        "\n",
        "    Args:\n",
        "        pdf_path (str): pdf file path\n",
        "    Returns:\n",
        "        text_data: Dict containing list of text and bbox\n",
        "    \"\"\"\n",
        "\n",
        "    text_data = {}\n",
        "\n",
        "    try:\n",
        "        doc = fitz.open(pdf_path)\n",
        "        for page_no in range(doc.page_count):\n",
        "\n",
        "            page = doc[page_no]\n",
        "            w, h = page.mediabox.width, page.mediabox.height\n",
        "\n",
        "            texts, bbox_list = [], []\n",
        "\n",
        "            pp = f\"page_{page_no}\"\n",
        "            text_data[pp] = {}\n",
        "            text_data[pp]['width'] = w\n",
        "            text_data[pp]['height'] = h\n",
        "            text_data[pp]['data'] = []\n",
        "\n",
        "            # get table data using camelot and add it to output json (text_data)\n",
        "            text_data, tables = add_tables_to_output(pdf_path, h, pp, text_data)\n",
        "\n",
        "            for block in page.get_text(\"dict\")[\"blocks\"]:\n",
        "                if \"image\" in block.keys():\n",
        "                    continue\n",
        "\n",
        "                for line in block[\"lines\"]:\n",
        "                    line_text = \"\"\n",
        "                    for span in line[\"spans\"]:\n",
        "                        line_text += f'{span[\"text\"]} '\n",
        "\n",
        "                    if line_text.strip():\n",
        "                      bbox = [round(coord, 2) for coord in line[\"bbox\"]]\n",
        "                      data = add__d(line_text.strip(), bbox, 'line')\n",
        "\n",
        "                      ## check overlap of line with table data, if line overlap with table bbox then do not add line\n",
        "                      if not tables:\n",
        "                        text_data[pp]['data'].append(data)\n",
        "                      else:\n",
        "                        overlap_flag = False\n",
        "                        overlap_flag = check_if_table_overlap(tables, bbox, overlap_flag)\n",
        "                        if not overlap_flag:\n",
        "                          data = add__d(line_text.strip(), bbox, 'line')\n",
        "                          text_data[pp]['data'].append(data)\n",
        "\n",
        "            # sort data as per top\n",
        "            d = text_data['page_0']['data']\n",
        "            text_data['page_0']['data'] = sorted(d, key=lambda d: d['bbox'][1])\n",
        "    except Exception as e:\n",
        "        print(\"Exception in get_doc_data\", e)\n",
        "    return text_data\n"
      ],
      "metadata": {
        "id": "lYNheYPtt9dE"
      },
      "execution_count": 256,
      "outputs": []
    },
    {
      "cell_type": "code",
      "source": [
        "pdf_path = \"/content/drive/MyDrive/Colab Notebooks/dimensionless/table.pdf\"\n",
        "output_json = get_doc_data(pdf_path)"
      ],
      "metadata": {
        "id": "WDUQdZgO2zSe"
      },
      "execution_count": 257,
      "outputs": []
    },
    {
      "cell_type": "code",
      "source": [
        "output_json"
      ],
      "metadata": {
        "colab": {
          "base_uri": "https://localhost:8080/"
        },
        "id": "ub52d3d4_1aa",
        "outputId": "5024dbb6-c98a-4dc0-f40b-86231454aa8b"
      },
      "execution_count": 258,
      "outputs": [
        {
          "output_type": "execute_result",
          "data": {
            "text/plain": [
              "{'page_0': {'width': 612.0,\n",
              "  'height': 792.0,\n",
              "  'data': [{'data': 'Example table',\n",
              "    'bbox': [72.0, 95.86, 166.3, 112.32],\n",
              "    'type': 'line'},\n",
              "   {'data': 'This is an example of a data table.',\n",
              "    'bbox': [72.0, 115.59, 295.68, 131.55],\n",
              "    'type': 'line'},\n",
              "   {'data': [{0: 'Disability \\nCategory',\n",
              "      1: 'Participants',\n",
              "      2: 'Ballots \\nCompleted',\n",
              "      3: 'Ballots \\nIncomplete/ \\nTerminated',\n",
              "      4: 'Results',\n",
              "      5: ''},\n",
              "     {0: '', 1: '', 2: '', 3: '', 4: 'Accuracy', 5: 'Time to \\ncomplete'},\n",
              "     {0: 'Blind', 1: '5', 2: '1', 3: '4', 4: '34.5%, n=1', 5: '1199 sec, n=1'},\n",
              "     {0: 'Low Vision',\n",
              "      1: '5',\n",
              "      2: '2',\n",
              "      3: '3',\n",
              "      4: '98.3% n=2 \\n(97.7%, n=3)',\n",
              "      5: '1716 sec, n=3 \\n(1934 sec, n=2)'},\n",
              "     {0: 'Dexterity',\n",
              "      1: '5',\n",
              "      2: '4',\n",
              "      3: '1',\n",
              "      4: '98.3%, n=4',\n",
              "      5: '1672.1 sec, n=4'},\n",
              "     {0: 'Mobility',\n",
              "      1: '3',\n",
              "      2: '3',\n",
              "      3: '0',\n",
              "      4: '95.4%, n=3',\n",
              "      5: '1416 sec, n=3'}],\n",
              "    'bbox': (84.24, 144.0, 546.0, 345.6),\n",
              "    'type': 'table'}]}}"
            ]
          },
          "metadata": {},
          "execution_count": 258
        }
      ]
    },
    {
      "cell_type": "markdown",
      "source": [
        "### Get text data"
      ],
      "metadata": {
        "id": "bChvpRfUN3bj"
      }
    },
    {
      "cell_type": "code",
      "source": [
        "no = 0\n",
        "lines = [d['data'] for d in output_json[f'page_{no}']['data'] if d['type'] == 'line']\n",
        "print(lines)"
      ],
      "metadata": {
        "colab": {
          "base_uri": "https://localhost:8080/"
        },
        "id": "Mil2CRN6-vHv",
        "outputId": "c6af7bbd-c8f5-453d-967f-58a07127b3ac"
      },
      "execution_count": 259,
      "outputs": [
        {
          "output_type": "stream",
          "name": "stdout",
          "text": [
            "['Example table', 'This is an example of a data table.']\n"
          ]
        }
      ]
    },
    {
      "cell_type": "markdown",
      "source": [
        "### Get table data\n",
        "-Table is converted to json"
      ],
      "metadata": {
        "id": "J-tnxwBwUnp9"
      }
    },
    {
      "cell_type": "code",
      "source": [
        "no = 0\n",
        "tables = [d['data'] for d in output_json[f'page_{no}']['data'] if d['type'] == 'table']\n",
        "if tables:\n",
        "    print(tables[0])"
      ],
      "metadata": {
        "colab": {
          "base_uri": "https://localhost:8080/"
        },
        "id": "kvs1iHOdYF5z",
        "outputId": "41cf984e-c600-4b27-e96e-712855435a7a"
      },
      "execution_count": 261,
      "outputs": [
        {
          "output_type": "stream",
          "name": "stdout",
          "text": [
            "[{0: 'Disability \\nCategory', 1: 'Participants', 2: 'Ballots \\nCompleted', 3: 'Ballots \\nIncomplete/ \\nTerminated', 4: 'Results', 5: ''}, {0: '', 1: '', 2: '', 3: '', 4: 'Accuracy', 5: 'Time to \\ncomplete'}, {0: 'Blind', 1: '5', 2: '1', 3: '4', 4: '34.5%, n=1', 5: '1199 sec, n=1'}, {0: 'Low Vision', 1: '5', 2: '2', 3: '3', 4: '98.3% n=2 \\n(97.7%, n=3)', 5: '1716 sec, n=3 \\n(1934 sec, n=2)'}, {0: 'Dexterity', 1: '5', 2: '4', 3: '1', 4: '98.3%, n=4', 5: '1672.1 sec, n=4'}, {0: 'Mobility', 1: '3', 2: '3', 3: '0', 4: '95.4%, n=3', 5: '1416 sec, n=3'}]\n"
          ]
        }
      ]
    },
    {
      "cell_type": "code",
      "source": [],
      "metadata": {
        "id": "2juJRlhH9jEi"
      },
      "execution_count": 243,
      "outputs": []
    },
    {
      "cell_type": "code",
      "source": [],
      "metadata": {
        "id": "403eLgDLXskU"
      },
      "execution_count": null,
      "outputs": []
    },
    {
      "cell_type": "code",
      "source": [],
      "metadata": {
        "id": "nvZR3wbd9jGu"
      },
      "execution_count": null,
      "outputs": []
    }
  ]
}