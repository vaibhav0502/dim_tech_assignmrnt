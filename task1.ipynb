{
  "nbformat": 4,
  "nbformat_minor": 0,
  "metadata": {
    "colab": {
      "provenance": [],
      "toc_visible": true
    },
    "kernelspec": {
      "name": "python3",
      "display_name": "Python 3"
    },
    "language_info": {
      "name": "python"
    }
  },
  "cells": [
    {
      "cell_type": "markdown",
      "source": [
        "# NLP Assignment"
      ],
      "metadata": {
        "id": "uTNMuo5gGDbm"
      }
    },
    {
      "cell_type": "code",
      "source": [
        "# !pip install PyMuPDF\n",
        "# !pip install fitz\n",
        "# !pip install camelot-py\n",
        "# !pip install ghostscript\n",
        "# !apt install ghostscript python3-tk"
      ],
      "metadata": {
        "id": "TYe1WH-WARxn"
      },
      "execution_count": 1,
      "outputs": []
    },
    {
      "cell_type": "markdown",
      "source": [
        "## Imports"
      ],
      "metadata": {
        "id": "Q5UTbJ31WVPx"
      }
    },
    {
      "cell_type": "code",
      "source": [
        "import fitz\n",
        "import camelot"
      ],
      "metadata": {
        "id": "rm2S5rvBISI5"
      },
      "execution_count": 2,
      "outputs": []
    },
    {
      "cell_type": "markdown",
      "source": [
        "## Task 1\n",
        "\n",
        "- Download the publicly available reports and extract the contents out of it.  \n",
        "- I have used `Fitz` to get text data and `Camelot` to get tabular data\n",
        "- Final output will be a dictionary containing text and table data for each page\n",
        "- Pass pdf_file path to function `get_doc_data` it will return output_json\n"
      ],
      "metadata": {
        "id": "H9TErR6V9gjs"
      }
    },
    {
      "cell_type": "code",
      "source": [
        "def read_table_using_camelot(pdf_path, page_no):\n",
        "    '''\n",
        "    Function to read pdf and return tables\n",
        "    '''\n",
        "    table_dict = []\n",
        "\n",
        "    try:\n",
        "        tables = camelot.read_pdf(pdf_path, pages=f\"{page_no+1}\")\n",
        "\n",
        "        if tables:\n",
        "            for table in tables:\n",
        "                table_dict.append(\n",
        "                    {\n",
        "                        'data':table.df.to_dict('records'),\n",
        "                        # \"data\": table.df,\n",
        "                        \"bbox\": table._bbox,\n",
        "                    }\n",
        "                )\n",
        "\n",
        "            return table_dict\n",
        "        else:\n",
        "            return []\n",
        "\n",
        "    except Exception as e:\n",
        "        print(\"Exception in read_table_using_camelot\", e)\n",
        "        return table_dict\n",
        "\n",
        "def change_y_of_table(tables, height):\n",
        "    \"\"\"\n",
        "    Function to change y coordinate of camelot table\n",
        "    Allign that with fitz coordinate\n",
        "    \"\"\"\n",
        "    for table in tables:\n",
        "        x1, y1, x2, y2 = table[\"bbox\"]\n",
        "        y11 = height - y2\n",
        "        y22 = height - y1\n",
        "        table[\"bbox\"] = (x1, y11, x2, y22)\n",
        "    return tables\n",
        "\n",
        "\n",
        "def add__d(data, bbox, type_):\n",
        "    data = {\"data\": data, \"bbox\": bbox, \"type\": type_}\n",
        "    return data\n",
        "\n",
        "\n",
        "def add_tables_to_output(pdf_path, h, pp, text_data):\n",
        "    try:\n",
        "        # get tables using camelot\n",
        "        tables = read_table_using_camelot(pdf_path, 0)\n",
        "        tables = change_y_of_table(tables, h)\n",
        "\n",
        "        if tables:\n",
        "            for table in tables:\n",
        "                data = add__d(table[\"data\"], table[\"bbox\"], \"table\")\n",
        "                text_data[pp][\"data\"].append(data)\n",
        "            return text_data, tables\n",
        "        else:\n",
        "            return text_data, []\n",
        "    except Exception as e:\n",
        "        print(\"Exception in add_tables_to_output\", e)\n",
        "        return text_data, []\n",
        "\n",
        "def check_overlap(t1, t2):\n",
        "    y1, y2 = int(t1[0]), int(t1[1])\n",
        "    r1 = set(list(range(y1, y2)))\n",
        "\n",
        "    y1, y2 = int(t2[0]), int(t2[1])\n",
        "    r2 = set(list(range(y1, y2)))\n",
        "\n",
        "    overlap = r1.intersection(r2)\n",
        "    return len(overlap) > 0\n",
        "\n",
        "\n",
        "def check_if_table_overlap(tables, bbox, overlap_flag):\n",
        "    \"\"\"\n",
        "    Function to check if line coordinate overlaps with table coordinate\n",
        "    \"\"\"\n",
        "    tables_bbox_list = [t[\"bbox\"] for t in tables]\n",
        "    for t in tables_bbox_list:\n",
        "        if check_overlap((bbox[1], bbox[3]), (t[1], t[3])):\n",
        "            overlap_flag = True\n",
        "        else:\n",
        "            overlap_flag = False\n",
        "    return overlap_flag\n",
        "\n",
        "\n",
        "def get_doc_data(pdf_path):\n",
        "    \"\"\"\n",
        "    Function to return text block from given doc.\n",
        "\n",
        "    Args:\n",
        "        pdf_path (str): pdf file path\n",
        "    Returns:\n",
        "        text_data: Dict containing list of text and bbox\n",
        "    \"\"\"\n",
        "\n",
        "    text_data = {}\n",
        "\n",
        "    try:\n",
        "        doc = fitz.open(pdf_path)\n",
        "        for page_no in range(doc.page_count):\n",
        "            print(f\"Processing page no {page_no}\")\n",
        "            page = doc[page_no]\n",
        "            w, h = page.mediabox.width, page.mediabox.height\n",
        "\n",
        "            texts, bbox_list = [], []\n",
        "\n",
        "            pp = f\"page_{page_no}\"\n",
        "            text_data[pp] = {}\n",
        "            text_data[pp]['width'] = w\n",
        "            text_data[pp]['height'] = h\n",
        "            text_data[pp]['data'] = []\n",
        "\n",
        "            # get table data using camelot and add it to output json (text_data)\n",
        "            text_data, tables = add_tables_to_output(pdf_path, h, pp, text_data)\n",
        "            tables = []\n",
        "\n",
        "            for block in page.get_text(\"dict\")[\"blocks\"]:\n",
        "                if \"image\" in block.keys():\n",
        "                    continue\n",
        "\n",
        "                for line in block[\"lines\"]:\n",
        "                    line_text = \"\"\n",
        "                    for span in line[\"spans\"]:\n",
        "                        line_text += f'{span[\"text\"]} '\n",
        "\n",
        "                    if line_text.strip():\n",
        "                      bbox = [round(coord, 2) for coord in line[\"bbox\"]]\n",
        "                      data = add__d(line_text.strip(), bbox, 'line')\n",
        "\n",
        "                      ## check overlap of line with table data, if line overlap with table bbox then do not add line\n",
        "                      if not tables:\n",
        "                        text_data[pp]['data'].append(data)\n",
        "                      else:\n",
        "                        overlap_flag = False\n",
        "                        overlap_flag = check_if_table_overlap(tables, bbox, overlap_flag)\n",
        "                        if not overlap_flag:\n",
        "                          data = add__d(line_text.strip(), bbox, 'line')\n",
        "                          text_data[pp]['data'].append(data)\n",
        "\n",
        "            # sort data as per top\n",
        "            d = text_data['page_0']['data']\n",
        "            text_data['page_0']['data'] = sorted(d, key=lambda d: (d['bbox'][1], d['bbox'][3]))\n",
        "    except Exception as e:\n",
        "        print(\"Exception in get_doc_data\", e)\n",
        "    return text_data\n"
      ],
      "metadata": {
        "id": "lYNheYPtt9dE"
      },
      "execution_count": 3,
      "outputs": []
    },
    {
      "cell_type": "code",
      "source": [
        "# /content/drive/MyDrive/Colab Notebooks/dimensionless\n",
        "pdf_path = \"pdfs/table.pdf\"\n",
        "pdf_path = \"/content/drive/MyDrive/Colab Notebooks/dimensionless/pdfs/chapter.pdf\"\n",
        "output_json = get_doc_data(pdf_path)"
      ],
      "metadata": {
        "id": "WDUQdZgO2zSe",
        "colab": {
          "base_uri": "https://localhost:8080/"
        },
        "outputId": "a300ff61-2999-47e9-e8a4-fba7a0dced7d"
      },
      "execution_count": 6,
      "outputs": [
        {
          "output_type": "stream",
          "name": "stdout",
          "text": [
            "Processing page no 0\n",
            "Processing page no 1\n",
            "Processing page no 2\n",
            "Processing page no 3\n",
            "Processing page no 4\n",
            "Processing page no 5\n",
            "Processing page no 6\n"
          ]
        }
      ]
    },
    {
      "cell_type": "markdown",
      "source": [
        "### Get text data"
      ],
      "metadata": {
        "id": "bChvpRfUN3bj"
      }
    },
    {
      "cell_type": "code",
      "source": [
        "no = 4\n",
        "lines = [d['data'] for d in output_json[f'page_{no}']['data'] if d['type'] == 'line']\n",
        "# print(lines)\n",
        "lines"
      ],
      "metadata": {
        "colab": {
          "base_uri": "https://localhost:8080/"
        },
        "id": "Mil2CRN6-vHv",
        "outputId": "0593c166-0f97-4759-b481-f92a88d8254f"
      },
      "execution_count": 7,
      "outputs": [
        {
          "output_type": "execute_result",
          "data": {
            "text/plain": [
              "['GCB Bank PLC Annual Report 2022',\n",
              " '9',\n",
              " 'Emmanuel is a seasoned Banker who brings on board over 20 years’ multinational experience,',\n",
              " 'working for listed companies in corporate and retail Banking, asset management, securities,',\n",
              " 'brokerage services, pensions, insurance and micro-finance with operations in over 30 African',\n",
              " 'countries.',\n",
              " 'He started his career with KPMG and has since held other positions including Chief Financial',\n",
              " 'Officer – WAMZ at Ecobank Ghana; Group Head, Finance at Ecobank Transnational Incorporated',\n",
              " '(Togo), Group Chief Operating Officer, Letshego Holdings Limited (Botswana) and Executive',\n",
              " 'Business Manager to the Group CEO - Alexander Forbes Group Holdings (South Africa).',\n",
              " 'Emmanuel also held several roles with Standard Bank of South Africa Group in South Africa',\n",
              " 'and Ghana.',\n",
              " 'Mr. Lamptey holds a Bachelor of Commerce degree from University of Cape Coast, Ghana and',\n",
              " 'is a fellow of Association of Chartered Certified Accountants, United Kingdom. He is an',\n",
              " 'alumnus of Harvard Business School, USA.',\n",
              " 'Mr. Socrates Afram',\n",
              " 'Deputy Managing',\n",
              " 'Director, Finance',\n",
              " 'Mr. Emmanuel',\n",
              " 'Odartey Lamptey',\n",
              " 'Deputy Managing',\n",
              " 'Director, Operations',\n",
              " 'Directors’ Profile (Continued)',\n",
              " 'Socrates is a finance professional with over 15 years’ experience in the Financial Services',\n",
              " 'sector. He has a breadth of experience across strategy; business performance and reporting',\n",
              " '(financial, regulatory and statutory); debt and capital raising; business combination; investment',\n",
              " 'and risk management.',\n",
              " 'Prior to joining GCB Bank in February 2016, he was the Finance Director of Fidelity Bank',\n",
              " 'Ghana Limited.  Other positions he held at Fidelity include Head of Research and Head of',\n",
              " 'Business Performance & Financial Control. He worked with UBA (Ghana) as Senior Analyst',\n",
              " 'deputizing for the Financial Controller. He also worked with Export Finance Company Limited',\n",
              " 'as Head of Finance & Administration and General Leasing & Finance Company Limited as',\n",
              " 'Analyst for lease credit applications.',\n",
              " 'Socrates is a fellow of the Association of Chartered Certified Accountants (ACCA), having',\n",
              " 'qualified by June 2003.  He holds a Master of Business Administration (Finance) degree from',\n",
              " 'the University of Ghana Business School and a Bachelor of Commerce degree from the',\n",
              " 'University of Cape Coast.  He is an alumnus of the Wharton Executive Education, University of',\n",
              " 'Pennsylvania, USA.']"
            ]
          },
          "metadata": {},
          "execution_count": 7
        }
      ]
    },
    {
      "cell_type": "markdown",
      "source": [
        "### Get table data\n",
        "-Table is converted to json"
      ],
      "metadata": {
        "id": "J-tnxwBwUnp9"
      }
    },
    {
      "cell_type": "code",
      "source": [
        "tables = [d['data'] for d in output_json[f'page_{no}']['data'] if d['type'] == 'table']\n",
        "if tables:\n",
        "    print(tables[0])\n",
        "else:\n",
        "    print(\"no tables\")"
      ],
      "metadata": {
        "colab": {
          "base_uri": "https://localhost:8080/"
        },
        "id": "kvs1iHOdYF5z",
        "outputId": "2902c590-2980-41ff-b9ec-757ecc3d7269"
      },
      "execution_count": 8,
      "outputs": [
        {
          "output_type": "stream",
          "name": "stdout",
          "text": [
            "[{0: '', 1: ''}, {0: '', 1: ''}]\n"
          ]
        }
      ]
    },
    {
      "cell_type": "code",
      "source": [
        "import json\n",
        "with open('task1_result.json', 'w') as fp:\n",
        "    json.dump(output_json, fp, indent=4)"
      ],
      "metadata": {
        "id": "2juJRlhH9jEi"
      },
      "execution_count": 9,
      "outputs": []
    },
    {
      "cell_type": "code",
      "source": [],
      "metadata": {
        "id": "403eLgDLXskU"
      },
      "execution_count": 9,
      "outputs": []
    },
    {
      "cell_type": "code",
      "source": [],
      "metadata": {
        "id": "nvZR3wbd9jGu"
      },
      "execution_count": 9,
      "outputs": []
    }
  ]
}